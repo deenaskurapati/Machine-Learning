{
  "cells": [
    {
      "cell_type": "markdown",
      "metadata": {
        "tags": [],
        "id": "6oEL9J6SjVxs"
      },
      "source": [
        "# Optional Lab - Simple Neural Network\n",
        "In this lab, we will build a small neural network using Numpy. It will be the same \"coffee roasting\" network you implemented in Tensorflow.\n",
        "   <center> <img  src=\"./images/C2_W1_CoffeeRoasting.png\" width=\"400\" />   <center/>\n"
      ]
    },
    {
      "cell_type": "code",
      "source": [
        "import os\n",
        "from google.colab import drive\n",
        "drive.mount('/content/drive')\n",
        "notebook_path = \"/content/drive/My Drive/Machine Learning\"\n",
        "os.chdir(notebook_path)\n",
        "print(os.getcwd())"
      ],
      "metadata": {
        "colab": {
          "base_uri": "https://localhost:8080/"
        },
        "id": "LixSVE15jbRK",
        "outputId": "999db2d7-01b6-42c0-9d9e-c7df7574b54a"
      },
      "execution_count": 3,
      "outputs": [
        {
          "output_type": "stream",
          "name": "stdout",
          "text": [
            "Mounted at /content/drive\n"
          ]
        }
      ]
    },
    {
      "cell_type": "code",
      "execution_count": 5,
      "metadata": {
        "id": "vGluOO4PjVxt"
      },
      "outputs": [],
      "source": [
        "import numpy as np\n",
        "import matplotlib.pyplot as plt\n",
        "plt.style.use('./deeplearning.mplstyle')\n",
        "import tensorflow as tf\n",
        "from lab_utils_common import dlc, sigmoid\n",
        "from lab_coffee_utils import load_coffee_data, plt_roast, plt_prob, plt_layer, plt_network, plt_output_unit\n",
        "import logging\n",
        "logging.getLogger(\"tensorflow\").setLevel(logging.ERROR)\n",
        "tf.autograph.set_verbosity(0)"
      ]
    },
    {
      "cell_type": "markdown",
      "metadata": {
        "id": "xwbETiIDjVxu"
      },
      "source": [
        "## DataSet\n",
        "This is the same data set as the previous lab."
      ]
    },
    {
      "cell_type": "code",
      "execution_count": 6,
      "metadata": {
        "colab": {
          "base_uri": "https://localhost:8080/"
        },
        "id": "pTr6Rv3zjVxu",
        "outputId": "599d4dce-e265-41d2-e4da-220147b679e1"
      },
      "outputs": [
        {
          "output_type": "stream",
          "name": "stdout",
          "text": [
            "(200, 2) (200, 1)\n"
          ]
        }
      ],
      "source": [
        "X,Y = load_coffee_data();\n",
        "print(X.shape, Y.shape)"
      ]
    },
    {
      "cell_type": "markdown",
      "metadata": {
        "id": "dfHi9LEgjVxu"
      },
      "source": [
        "Let's plot the coffee roasting data below. The two features are Temperature in Celsius and Duration in minutes. [Coffee Roasting at Home](https://www.merchantsofgreencoffee.com/how-to-roast-green-coffee-in-your-oven/) suggests that the duration is best kept between 12 and 15 minutes while the temp should be between 175 and 260 degrees Celsius. Of course, as the temperature rises, the duration should shrink."
      ]
    },
    {
      "cell_type": "code",
      "execution_count": 7,
      "metadata": {
        "colab": {
          "base_uri": "https://localhost:8080/",
          "height": 673
        },
        "id": "hi7-snltjVxu",
        "outputId": "d021fc23-a663-4d5f-fb0f-87f217cea9d9"
      },
      "outputs": [
        {
          "output_type": "error",
          "ename": "KeyError",
          "evalue": "'dldarkblue'",
          "traceback": [
            "\u001b[0;31m---------------------------------------------------------------------------\u001b[0m",
            "\u001b[0;31mKeyError\u001b[0m                                  Traceback (most recent call last)",
            "\u001b[0;32m<ipython-input-7-603d146d5965>\u001b[0m in \u001b[0;36m<cell line: 1>\u001b[0;34m()\u001b[0m\n\u001b[0;32m----> 1\u001b[0;31m \u001b[0mplt_roast\u001b[0m\u001b[0;34m(\u001b[0m\u001b[0mX\u001b[0m\u001b[0;34m,\u001b[0m\u001b[0mY\u001b[0m\u001b[0;34m)\u001b[0m\u001b[0;34m\u001b[0m\u001b[0;34m\u001b[0m\u001b[0m\n\u001b[0m",
            "\u001b[0;32m/content/drive/MyDrive/Machine Learning/lab_coffee_utils.py\u001b[0m in \u001b[0;36mplt_roast\u001b[0;34m(X, Y)\u001b[0m\n\u001b[1;32m     36\u001b[0m     \u001b[0max\u001b[0m\u001b[0;34m.\u001b[0m\u001b[0mscatter\u001b[0m\u001b[0;34m(\u001b[0m\u001b[0mX\u001b[0m\u001b[0;34m[\u001b[0m\u001b[0mY\u001b[0m\u001b[0;34m==\u001b[0m\u001b[0;36m1\u001b[0m\u001b[0;34m,\u001b[0m\u001b[0;36m0\u001b[0m\u001b[0;34m]\u001b[0m\u001b[0;34m,\u001b[0m\u001b[0mX\u001b[0m\u001b[0;34m[\u001b[0m\u001b[0mY\u001b[0m\u001b[0;34m==\u001b[0m\u001b[0;36m1\u001b[0m\u001b[0;34m,\u001b[0m\u001b[0;36m1\u001b[0m\u001b[0;34m]\u001b[0m\u001b[0;34m,\u001b[0m \u001b[0ms\u001b[0m\u001b[0;34m=\u001b[0m\u001b[0;36m70\u001b[0m\u001b[0;34m,\u001b[0m \u001b[0mmarker\u001b[0m\u001b[0;34m=\u001b[0m\u001b[0;34m'x'\u001b[0m\u001b[0;34m,\u001b[0m \u001b[0mc\u001b[0m\u001b[0;34m=\u001b[0m\u001b[0;34m'red'\u001b[0m\u001b[0;34m,\u001b[0m \u001b[0mlabel\u001b[0m\u001b[0;34m=\u001b[0m\u001b[0;34m\"Good Roast\"\u001b[0m \u001b[0;34m)\u001b[0m\u001b[0;34m\u001b[0m\u001b[0;34m\u001b[0m\u001b[0m\n\u001b[1;32m     37\u001b[0m     ax.scatter(X[Y==0,0],X[Y==0,1], s=100, marker='o', facecolors='none', \n\u001b[0;32m---> 38\u001b[0;31m                edgecolors=dlc[\"dldarkblue\"],linewidth=1,  label=\"Bad Roast\")\n\u001b[0m\u001b[1;32m     39\u001b[0m     \u001b[0mtr\u001b[0m \u001b[0;34m=\u001b[0m \u001b[0mnp\u001b[0m\u001b[0;34m.\u001b[0m\u001b[0mlinspace\u001b[0m\u001b[0;34m(\u001b[0m\u001b[0;36m175\u001b[0m\u001b[0;34m,\u001b[0m\u001b[0;36m260\u001b[0m\u001b[0;34m,\u001b[0m\u001b[0;36m50\u001b[0m\u001b[0;34m)\u001b[0m\u001b[0;34m\u001b[0m\u001b[0;34m\u001b[0m\u001b[0m\n\u001b[1;32m     40\u001b[0m     \u001b[0max\u001b[0m\u001b[0;34m.\u001b[0m\u001b[0mplot\u001b[0m\u001b[0;34m(\u001b[0m\u001b[0mtr\u001b[0m\u001b[0;34m,\u001b[0m \u001b[0;34m(\u001b[0m\u001b[0;34m-\u001b[0m\u001b[0;36m3\u001b[0m\u001b[0;34m/\u001b[0m\u001b[0;36m85\u001b[0m\u001b[0;34m)\u001b[0m \u001b[0;34m*\u001b[0m \u001b[0mtr\u001b[0m \u001b[0;34m+\u001b[0m \u001b[0;36m21\u001b[0m\u001b[0;34m,\u001b[0m \u001b[0mcolor\u001b[0m\u001b[0;34m=\u001b[0m\u001b[0mdlc\u001b[0m\u001b[0;34m[\u001b[0m\u001b[0;34m\"dlpurple\"\u001b[0m\u001b[0;34m]\u001b[0m\u001b[0;34m,\u001b[0m\u001b[0mlinewidth\u001b[0m\u001b[0;34m=\u001b[0m\u001b[0;36m1\u001b[0m\u001b[0;34m)\u001b[0m\u001b[0;34m\u001b[0m\u001b[0;34m\u001b[0m\u001b[0m\n",
            "\u001b[0;31mKeyError\u001b[0m: 'dldarkblue'"
          ]
        },
        {
          "output_type": "display_data",
          "data": {
            "text/plain": [
              "<Figure size 640x480 with 1 Axes>"
            ],
            "image/png": "[encoded data removed]"
          },
          "metadata": {}
        }
      ],
      "source": [
        "plt_roast(X,Y)"
      ]
    },
    {
      "cell_type": "markdown",
      "metadata": {
        "id": "_ISm_YHYjVxu"
      },
      "source": [
        "### Normalize Data\n",
        "To match the previous lab, we'll normalize the data. Refer to that lab for more details"
      ]
    },
    {
      "cell_type": "code",
      "execution_count": 8,
      "metadata": {
        "colab": {
          "base_uri": "https://localhost:8080/"
        },
        "id": "NbBGHcONjVxu",
        "outputId": "0f4d7ebf-6986-4fd6-8902-5ea04c1e4134"
      },
      "outputs": [
        {
          "output_type": "stream",
          "name": "stdout",
          "text": [
            "Temperature Max, Min pre normalization: 284.99, 151.32\n",
            "Duration    Max, Min pre normalization: 15.45, 11.51\n",
            "Temperature Max, Min post normalization: 1.66, -1.69\n",
            "Duration    Max, Min post normalization: 1.79, -1.70\n"
          ]
        }
      ],
      "source": [
        "print(f\"Temperature Max, Min pre normalization: {np.max(X[:,0]):0.2f}, {np.min(X[:,0]):0.2f}\")\n",
        "print(f\"Duration    Max, Min pre normalization: {np.max(X[:,1]):0.2f}, {np.min(X[:,1]):0.2f}\")\n",
        "norm_l = tf.keras.layers.Normalization(axis=-1)\n",
        "norm_l.adapt(X)  # learns mean, variance\n",
        "Xn = norm_l(X)\n",
        "print(f\"Temperature Max, Min post normalization: {np.max(Xn[:,0]):0.2f}, {np.min(Xn[:,0]):0.2f}\")\n",
        "print(f\"Duration    Max, Min post normalization: {np.max(Xn[:,1]):0.2f}, {np.min(Xn[:,1]):0.2f}\")"
      ]
    },
    {
      "cell_type": "markdown",
      "metadata": {
        "id": "5fCOUUn0jVxu"
      },
      "source": [
        "## Numpy Model (Forward Prop in NumPy)\n",
        "<center> <img  src=\"./images/C2_W1_RoastingNetwork.PNG\" width=\"200\" />   <center/>  \n",
        "Let's build the \"Coffee Roasting Network\" described in lecture. There are two layers with sigmoid activations."
      ]
    },
    {
      "cell_type": "markdown",
      "metadata": {
        "tags": [],
        "id": "cEkRCFoejVxu"
      },
      "source": [
        "As described in lecture, it is possible to build your own dense layer using NumPy. This can then be utilized to build a multi-layer neural network.\n",
        "\n",
        "<img src=\"images/C2_W1_dense2.PNG\" width=\"600\" height=\"450\">\n",
        "\n",
        "In the first optional lab, you constructed a neuron in NumPy and in Tensorflow and noted their similarity. A layer simply contains multiple neurons/units. As described in lecture, one can utilize a for loop to visit each unit (`j`) in the layer and perform the dot product of the weights for that unit (`W[:,j]`) and sum the bias for the unit (`b[j]`) to form `z`. An activation function `g(z)` can then be applied to that result. Let's try that below to build a \"dense layer\" subroutine."
      ]
    },
    {
      "cell_type": "code",
      "execution_count": 9,
      "metadata": {
        "tags": [],
        "id": "JbMGzrG-jVxu"
      },
      "outputs": [],
      "source": [
        "def my_dense(a_in, W, b, g):\n",
        "    \"\"\"\n",
        "    Computes dense layer\n",
        "    Args:\n",
        "      a_in (ndarray (n, )) : Data, 1 example\n",
        "      W    (ndarray (n,j)) : Weight matrix, n features per unit, j units\n",
        "      b    (ndarray (j, )) : bias vector, j units\n",
        "      g    activation function (e.g. sigmoid, relu..)\n",
        "    Returns\n",
        "      a_out (ndarray (j,))  : j units|\n",
        "    \"\"\"\n",
        "    units = W.shape[1]\n",
        "    a_out = np.zeros(units)\n",
        "    for j in range(units):\n",
        "        w = W[:,j]\n",
        "        z = np.dot(w, a_in) + b[j]\n",
        "        a_out[j] = g(z)\n",
        "    return(a_out)"
      ]
    },
    {
      "cell_type": "markdown",
      "metadata": {
        "id": "4hkN9XoxjVxv"
      },
      "source": [
        "The following cell builds a two-layer neural network utilizing the `my_dense` subroutine above."
      ]
    },
    {
      "cell_type": "code",
      "execution_count": 10,
      "metadata": {
        "id": "6h1vpvv7jVxv"
      },
      "outputs": [],
      "source": [
        "def my_sequential(x, W1, b1, W2, b2):\n",
        "    a1 = my_dense(x,  W1, b1, sigmoid)\n",
        "    a2 = my_dense(a1, W2, b2, sigmoid)\n",
        "    return(a2)"
      ]
    },
    {
      "cell_type": "markdown",
      "metadata": {
        "id": "QstvsAwfjVxv"
      },
      "source": [
        "We can copy trained weights and biases from the previous lab in Tensorflow."
      ]
    },
    {
      "cell_type": "code",
      "execution_count": 11,
      "metadata": {
        "id": "PAdmgX6jjVxv"
      },
      "outputs": [],
      "source": [
        "W1_tmp = np.array( [[-8.93,  0.29, 12.9 ], [-0.1,  -7.32, 10.81]] )\n",
        "b1_tmp = np.array( [-9.82, -9.28,  0.96] )\n",
        "W2_tmp = np.array( [[-31.18], [-27.59], [-32.56]] )\n",
        "b2_tmp = np.array( [15.41] )"
      ]
    },
    {
      "cell_type": "markdown",
      "metadata": {
        "id": "pZc3uzdzjVxv"
      },
      "source": [
        "### Predictions\n",
        "<img align=\"left\" src=\"./images/C2_W1_RoastingDecision.PNG\"     style=\" width:380px; padding: 10px 20px; \" >\n",
        "\n",
        "Once you have a trained model, you can then use it to make predictions. Recall that the output of our model is a probability. In this case, the probability of a good roast. To make a decision, one must apply the probability to a threshold. In this case, we will use 0.5"
      ]
    },
    {
      "cell_type": "markdown",
      "metadata": {
        "id": "Sd-6ppH5jVxv"
      },
      "source": [
        "Let's start by writing a routine similar to Tensorflow's `model.predict()`. This will take a matrix $X$ with all $m$ examples in the rows and make a prediction by running the model."
      ]
    },
    {
      "cell_type": "code",
      "execution_count": 12,
      "metadata": {
        "id": "iQwYf9XmjVxv"
      },
      "outputs": [],
      "source": [
        "def my_predict(X, W1, b1, W2, b2):\n",
        "    m = X.shape[0]\n",
        "    p = np.zeros((m,1))\n",
        "    for i in range(m):\n",
        "        p[i,0] = my_sequential(X[i], W1, b1, W2, b2)\n",
        "    return(p)"
      ]
    },
    {
      "cell_type": "markdown",
      "metadata": {
        "id": "AzOmYfpnjVxv"
      },
      "source": [
        "We can try this routine on two examples:"
      ]
    },
    {
      "cell_type": "code",
      "execution_count": 13,
      "metadata": {
        "colab": {
          "base_uri": "https://localhost:8080/"
        },
        "id": "Fzfn96SpjVxv",
        "outputId": "e174a380-1524-4a36-c9ac-9e8a74fa7815"
      },
      "outputs": [
        {
          "output_type": "stream",
          "name": "stderr",
          "text": [
            "<ipython-input-12-0b79d0e70caf>:5: DeprecationWarning: Conversion of an array with ndim > 0 to a scalar is deprecated, and will error in future. Ensure you extract a single element from your array before performing this operation. (Deprecated NumPy 1.25.)\n",
            "  p[i,0] = my_sequential(X[i], W1, b1, W2, b2)\n"
          ]
        }
      ],
      "source": [
        "X_tst = np.array([\n",
        "    [200,13.9],  # postive example\n",
        "    [200,17]])   # negative example\n",
        "X_tstn = norm_l(X_tst)  # remember to normalize\n",
        "predictions = my_predict(X_tstn, W1_tmp, b1_tmp, W2_tmp, b2_tmp)"
      ]
    },
    {
      "cell_type": "markdown",
      "metadata": {
        "id": "wn_KAyM0jVxv"
      },
      "source": [
        "To convert the probabilities to a decision, we apply a threshold:"
      ]
    },
    {
      "cell_type": "code",
      "execution_count": 14,
      "metadata": {
        "colab": {
          "base_uri": "https://localhost:8080/"
        },
        "id": "_Eti9n9DjVxv",
        "outputId": "e59956bc-47b3-4729-e7bc-4a0dfa4424d9"
      },
      "outputs": [
        {
          "output_type": "stream",
          "name": "stdout",
          "text": [
            "decisions = \n",
            "[[1.]\n",
            " [0.]]\n"
          ]
        }
      ],
      "source": [
        "yhat = np.zeros_like(predictions)\n",
        "for i in range(len(predictions)):\n",
        "    if predictions[i] >= 0.5:\n",
        "        yhat[i] = 1\n",
        "    else:\n",
        "        yhat[i] = 0\n",
        "print(f\"decisions = \\n{yhat}\")"
      ]
    },
    {
      "cell_type": "markdown",
      "metadata": {
        "id": "oBmY7TX3jVxv"
      },
      "source": [
        "This can be accomplished more succinctly:"
      ]
    },
    {
      "cell_type": "code",
      "execution_count": 15,
      "metadata": {
        "colab": {
          "base_uri": "https://localhost:8080/"
        },
        "id": "-wueCYCHjVxv",
        "outputId": "3e71dd80-7a60-4d05-a25c-ec74224d0e19"
      },
      "outputs": [
        {
          "output_type": "stream",
          "name": "stdout",
          "text": [
            "decisions = \n",
            "[[1]\n",
            " [0]]\n"
          ]
        }
      ],
      "source": [
        "yhat = (predictions >= 0.5).astype(int)\n",
        "print(f\"decisions = \\n{yhat}\")"
      ]
    },
    {
      "cell_type": "markdown",
      "metadata": {
        "id": "p8q_fX-YjVxv"
      },
      "source": [
        "## Network function"
      ]
    },
    {
      "cell_type": "markdown",
      "metadata": {
        "id": "pW3bdJwUjVxv"
      },
      "source": [
        "This graph shows the operation of the whole network and is identical to the Tensorflow result from the previous lab.\n",
        "The left graph is the raw output of the final layer represented by the blue shading. This is overlaid on the training data represented by the X's and O's.   \n",
        "The right graph is the output of the network after a decision threshold. The X's and O's here correspond to decisions made by the network.  "
      ]
    },
    {
      "cell_type": "code",
      "execution_count": 16,
      "metadata": {
        "tags": [],
        "colab": {
          "base_uri": "https://localhost:8080/",
          "height": 689
        },
        "id": "ZqyhTy4EjVxv",
        "outputId": "75ed3a98-ba8a-414e-d0de-0260e8f59eec"
      },
      "outputs": [
        {
          "output_type": "stream",
          "name": "stderr",
          "text": [
            "<ipython-input-12-0b79d0e70caf>:5: DeprecationWarning: Conversion of an array with ndim > 0 to a scalar is deprecated, and will error in future. Ensure you extract a single element from your array before performing this operation. (Deprecated NumPy 1.25.)\n",
            "  p[i,0] = my_sequential(X[i], W1, b1, W2, b2)\n"
          ]
        },
        {
          "output_type": "error",
          "ename": "KeyError",
          "evalue": "'dldarkblue'",
          "traceback": [
            "\u001b[0;31m---------------------------------------------------------------------------\u001b[0m",
            "\u001b[0;31mKeyError\u001b[0m                                  Traceback (most recent call last)",
            "\u001b[0;32m<ipython-input-16-5f3933963304>\u001b[0m in \u001b[0;36m<cell line: 2>\u001b[0;34m()\u001b[0m\n\u001b[1;32m      1\u001b[0m \u001b[0mnetf\u001b[0m\u001b[0;34m=\u001b[0m \u001b[0;32mlambda\u001b[0m \u001b[0mx\u001b[0m \u001b[0;34m:\u001b[0m \u001b[0mmy_predict\u001b[0m\u001b[0;34m(\u001b[0m\u001b[0mnorm_l\u001b[0m\u001b[0;34m(\u001b[0m\u001b[0mx\u001b[0m\u001b[0;34m)\u001b[0m\u001b[0;34m,\u001b[0m\u001b[0mW1_tmp\u001b[0m\u001b[0;34m,\u001b[0m \u001b[0mb1_tmp\u001b[0m\u001b[0;34m,\u001b[0m \u001b[0mW2_tmp\u001b[0m\u001b[0;34m,\u001b[0m \u001b[0mb2_tmp\u001b[0m\u001b[0;34m)\u001b[0m\u001b[0;34m\u001b[0m\u001b[0;34m\u001b[0m\u001b[0m\n\u001b[0;32m----> 2\u001b[0;31m \u001b[0mplt_network\u001b[0m\u001b[0;34m(\u001b[0m\u001b[0mX\u001b[0m\u001b[0;34m,\u001b[0m\u001b[0mY\u001b[0m\u001b[0;34m,\u001b[0m\u001b[0mnetf\u001b[0m\u001b[0;34m)\u001b[0m\u001b[0;34m\u001b[0m\u001b[0;34m\u001b[0m\u001b[0m\n\u001b[0m",
            "\u001b[0;32m/content/drive/MyDrive/Machine Learning/lab_coffee_utils.py\u001b[0m in \u001b[0;36mplt_network\u001b[0;34m(X, Y, netf)\u001b[0m\n\u001b[1;32m    100\u001b[0m     \u001b[0max\u001b[0m\u001b[0;34m[\u001b[0m\u001b[0;36m0\u001b[0m\u001b[0;34m]\u001b[0m\u001b[0;34m.\u001b[0m\u001b[0mscatter\u001b[0m\u001b[0;34m(\u001b[0m\u001b[0mX\u001b[0m\u001b[0;34m[\u001b[0m\u001b[0mY\u001b[0m\u001b[0;34m==\u001b[0m\u001b[0;36m1\u001b[0m\u001b[0;34m,\u001b[0m\u001b[0;36m0\u001b[0m\u001b[0;34m]\u001b[0m\u001b[0;34m,\u001b[0m\u001b[0mX\u001b[0m\u001b[0;34m[\u001b[0m\u001b[0mY\u001b[0m\u001b[0;34m==\u001b[0m\u001b[0;36m1\u001b[0m\u001b[0;34m,\u001b[0m\u001b[0;36m1\u001b[0m\u001b[0;34m]\u001b[0m\u001b[0;34m,\u001b[0m \u001b[0ms\u001b[0m\u001b[0;34m=\u001b[0m\u001b[0;36m70\u001b[0m\u001b[0;34m,\u001b[0m \u001b[0mmarker\u001b[0m\u001b[0;34m=\u001b[0m\u001b[0;34m'x'\u001b[0m\u001b[0;34m,\u001b[0m \u001b[0mc\u001b[0m\u001b[0;34m=\u001b[0m\u001b[0;34m'red'\u001b[0m\u001b[0;34m,\u001b[0m \u001b[0mlabel\u001b[0m\u001b[0;34m=\u001b[0m\u001b[0;34m\"Good Roast\"\u001b[0m \u001b[0;34m)\u001b[0m\u001b[0;34m\u001b[0m\u001b[0;34m\u001b[0m\u001b[0m\n\u001b[1;32m    101\u001b[0m     ax[0].scatter(X[Y==0,0],X[Y==0,1], s=100, marker='o', facecolors='none', \n\u001b[0;32m--> 102\u001b[0;31m                    edgecolors=dlc[\"dldarkblue\"],linewidth=1,  label=\"Bad Roast\")\n\u001b[0m\u001b[1;32m    103\u001b[0m     \u001b[0max\u001b[0m\u001b[0;34m[\u001b[0m\u001b[0;36m0\u001b[0m\u001b[0;34m]\u001b[0m\u001b[0;34m.\u001b[0m\u001b[0mplot\u001b[0m\u001b[0;34m(\u001b[0m\u001b[0mX\u001b[0m\u001b[0;34m[\u001b[0m\u001b[0;34m:\u001b[0m\u001b[0;34m,\u001b[0m\u001b[0;36m0\u001b[0m\u001b[0;34m]\u001b[0m\u001b[0;34m,\u001b[0m \u001b[0;34m(\u001b[0m\u001b[0;34m-\u001b[0m\u001b[0;36m3\u001b[0m\u001b[0;34m/\u001b[0m\u001b[0;36m85\u001b[0m\u001b[0;34m)\u001b[0m \u001b[0;34m*\u001b[0m \u001b[0mX\u001b[0m\u001b[0;34m[\u001b[0m\u001b[0;34m:\u001b[0m\u001b[0;34m,\u001b[0m\u001b[0;36m0\u001b[0m\u001b[0;34m]\u001b[0m \u001b[0;34m+\u001b[0m \u001b[0;36m21\u001b[0m\u001b[0;34m,\u001b[0m \u001b[0mcolor\u001b[0m\u001b[0;34m=\u001b[0m\u001b[0mdlc\u001b[0m\u001b[0;34m[\u001b[0m\u001b[0;34m\"dlpurple\"\u001b[0m\u001b[0;34m]\u001b[0m\u001b[0;34m,\u001b[0m\u001b[0mlinewidth\u001b[0m\u001b[0;34m=\u001b[0m\u001b[0;36m1\u001b[0m\u001b[0;34m)\u001b[0m\u001b[0;34m\u001b[0m\u001b[0;34m\u001b[0m\u001b[0m\n\u001b[1;32m    104\u001b[0m     \u001b[0max\u001b[0m\u001b[0;34m[\u001b[0m\u001b[0;36m0\u001b[0m\u001b[0;34m]\u001b[0m\u001b[0;34m.\u001b[0m\u001b[0maxhline\u001b[0m\u001b[0;34m(\u001b[0m\u001b[0my\u001b[0m\u001b[0;34m=\u001b[0m \u001b[0;36m12\u001b[0m\u001b[0;34m,\u001b[0m \u001b[0mcolor\u001b[0m\u001b[0;34m=\u001b[0m\u001b[0mdlc\u001b[0m\u001b[0;34m[\u001b[0m\u001b[0;34m\"dlpurple\"\u001b[0m\u001b[0;34m]\u001b[0m\u001b[0;34m,\u001b[0m \u001b[0mlinewidth\u001b[0m\u001b[0;34m=\u001b[0m\u001b[0;36m1\u001b[0m\u001b[0;34m)\u001b[0m\u001b[0;34m\u001b[0m\u001b[0;34m\u001b[0m\u001b[0m\n",
            "\u001b[0;31mKeyError\u001b[0m: 'dldarkblue'"
          ]
        },
        {
          "output_type": "display_data",
          "data": {
            "text/plain": [
              "<Figure size 1600x400 with 3 Axes>"
            ],
            "image/png": "[encoded data removed]"
          },
          "metadata": {}
        }
      ],
      "source": [
        "netf= lambda x : my_predict(norm_l(x),W1_tmp, b1_tmp, W2_tmp, b2_tmp)\n",
        "plt_network(X,Y,netf)"
      ]
    },
    {
      "cell_type": "markdown",
      "metadata": {
        "id": "dxPjcUd-jVxv"
      },
      "source": [
        "## Congratulations!\n",
        "You have built a small neural network in NumPy.\n",
        "Hopefully this lab revealed the fairly simple and familiar functions which make up a layer in a neural network."
      ]
    },
    {
      "cell_type": "code",
      "execution_count": null,
      "metadata": {
        "id": "Ac8BIdKXjVxv"
      },
      "outputs": [],
      "source": []
    }
  ],
  "metadata": {
    "kernelspec": {
      "display_name": "Python 3",
      "language": "python",
      "name": "python3"
    },
    "language_info": {
      "codemirror_mode": {
        "name": "ipython",
        "version": 3
      },
      "file_extension": ".py",
      "mimetype": "text/x-python",
      "name": "python",
      "nbconvert_exporter": "python",
      "pygments_lexer": "ipython3",
      "version": "3.7.6"
    },
    "colab": {
      "provenance": []
    }
  },
  "nbformat": 4,
  "nbformat_minor": 0
}